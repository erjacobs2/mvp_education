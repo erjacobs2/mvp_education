{
 "cells": [
  {
   "cell_type": "code",
   "execution_count": 1,
   "metadata": {},
   "outputs": [],
   "source": [
    "%matplotlib inline\n",
    "import matplotlib.pyplot as plt\n",
    "import numpy as np\n",
    "import pandas as pd"
   ]
  },
  {
   "cell_type": "code",
   "execution_count": 2,
   "metadata": {},
   "outputs": [
    {
     "data": {
      "text/html": [
       "<div>\n",
       "<style scoped>\n",
       "    .dataframe tbody tr th:only-of-type {\n",
       "        vertical-align: middle;\n",
       "    }\n",
       "\n",
       "    .dataframe tbody tr th {\n",
       "        vertical-align: top;\n",
       "    }\n",
       "\n",
       "    .dataframe thead th {\n",
       "        text-align: right;\n",
       "    }\n",
       "</style>\n",
       "<table border=\"1\" class=\"dataframe\">\n",
       "  <thead>\n",
       "    <tr style=\"text-align: right;\">\n",
       "      <th></th>\n",
       "      <th>PRIMARY_KEY</th>\n",
       "      <th>STATE</th>\n",
       "      <th>Region</th>\n",
       "      <th>YEAR</th>\n",
       "      <th>ENROLL</th>\n",
       "      <th>TOTAL_REVENUE</th>\n",
       "      <th>TOTAL_REVENUE_PS</th>\n",
       "      <th>FEDERAL_REVENUE</th>\n",
       "      <th>FEDERAL_REVENUE_PS</th>\n",
       "      <th>STATE_REVENUE</th>\n",
       "      <th>...</th>\n",
       "      <th>GRADES_4_G</th>\n",
       "      <th>GRADES_8_G</th>\n",
       "      <th>GRADES_12_G</th>\n",
       "      <th>GRADES_1_8_G</th>\n",
       "      <th>GRADES_9_12_G</th>\n",
       "      <th>GRADES_ALL_G</th>\n",
       "      <th>AVG_MATH_4_SCORE</th>\n",
       "      <th>AVG_MATH_8_SCORE</th>\n",
       "      <th>AVG_READING_4_SCORE</th>\n",
       "      <th>AVG_READING_8_SCORE</th>\n",
       "    </tr>\n",
       "  </thead>\n",
       "  <tbody>\n",
       "    <tr>\n",
       "      <th>0</th>\n",
       "      <td>1993_ALABAMA</td>\n",
       "      <td>ALABAMA</td>\n",
       "      <td>South</td>\n",
       "      <td>1993</td>\n",
       "      <td>727716</td>\n",
       "      <td>2827391</td>\n",
       "      <td>4.172101</td>\n",
       "      <td>331409</td>\n",
       "      <td>0.489027</td>\n",
       "      <td>1729295</td>\n",
       "      <td>...</td>\n",
       "      <td>57497</td>\n",
       "      <td>60004</td>\n",
       "      <td>39900</td>\n",
       "      <td>470775</td>\n",
       "      <td>198651</td>\n",
       "      <td>677690</td>\n",
       "      <td>208.327876</td>\n",
       "      <td>252.187522</td>\n",
       "      <td>207.963517</td>\n",
       "      <td>260.276441</td>\n",
       "    </tr>\n",
       "    <tr>\n",
       "      <th>1</th>\n",
       "      <td>1994_ALABAMA</td>\n",
       "      <td>ALABAMA</td>\n",
       "      <td>South</td>\n",
       "      <td>1994</td>\n",
       "      <td>730004</td>\n",
       "      <td>2970223</td>\n",
       "      <td>4.375645</td>\n",
       "      <td>331823</td>\n",
       "      <td>0.488832</td>\n",
       "      <td>1850894</td>\n",
       "      <td>...</td>\n",
       "      <td>56773</td>\n",
       "      <td>59165</td>\n",
       "      <td>41730</td>\n",
       "      <td>468472</td>\n",
       "      <td>201285</td>\n",
       "      <td>678808</td>\n",
       "      <td>208.327876</td>\n",
       "      <td>252.187522</td>\n",
       "      <td>207.963517</td>\n",
       "      <td>260.276441</td>\n",
       "    </tr>\n",
       "    <tr>\n",
       "      <th>2</th>\n",
       "      <td>1995_ALABAMA</td>\n",
       "      <td>ALABAMA</td>\n",
       "      <td>South</td>\n",
       "      <td>1995</td>\n",
       "      <td>727480</td>\n",
       "      <td>3367437</td>\n",
       "      <td>4.905868</td>\n",
       "      <td>328957</td>\n",
       "      <td>0.479243</td>\n",
       "      <td>2161366</td>\n",
       "      <td>...</td>\n",
       "      <td>56486</td>\n",
       "      <td>59914</td>\n",
       "      <td>40981</td>\n",
       "      <td>470246</td>\n",
       "      <td>206840</td>\n",
       "      <td>686410</td>\n",
       "      <td>208.327876</td>\n",
       "      <td>252.187522</td>\n",
       "      <td>207.963517</td>\n",
       "      <td>260.276441</td>\n",
       "    </tr>\n",
       "    <tr>\n",
       "      <th>3</th>\n",
       "      <td>1996_ALABAMA</td>\n",
       "      <td>ALABAMA</td>\n",
       "      <td>South</td>\n",
       "      <td>1996</td>\n",
       "      <td>735912</td>\n",
       "      <td>3365113</td>\n",
       "      <td>4.898393</td>\n",
       "      <td>334858</td>\n",
       "      <td>0.487433</td>\n",
       "      <td>2138717</td>\n",
       "      <td>...</td>\n",
       "      <td>57098</td>\n",
       "      <td>58305</td>\n",
       "      <td>42510</td>\n",
       "      <td>469370</td>\n",
       "      <td>207980</td>\n",
       "      <td>686983</td>\n",
       "      <td>211.646973</td>\n",
       "      <td>256.594863</td>\n",
       "      <td>210.920767</td>\n",
       "      <td>260.276441</td>\n",
       "    </tr>\n",
       "    <tr>\n",
       "      <th>4</th>\n",
       "      <td>1997_ALABAMA</td>\n",
       "      <td>ALABAMA</td>\n",
       "      <td>South</td>\n",
       "      <td>1997</td>\n",
       "      <td>737386</td>\n",
       "      <td>3981788</td>\n",
       "      <td>5.763349</td>\n",
       "      <td>376200</td>\n",
       "      <td>0.544522</td>\n",
       "      <td>2498847</td>\n",
       "      <td>...</td>\n",
       "      <td>57431</td>\n",
       "      <td>58210</td>\n",
       "      <td>44272</td>\n",
       "      <td>472847</td>\n",
       "      <td>208148</td>\n",
       "      <td>690881</td>\n",
       "      <td>211.646973</td>\n",
       "      <td>256.594863</td>\n",
       "      <td>210.920767</td>\n",
       "      <td>260.276441</td>\n",
       "    </tr>\n",
       "  </tbody>\n",
       "</table>\n",
       "<p>5 rows × 35 columns</p>\n",
       "</div>"
      ],
      "text/plain": [
       "    PRIMARY_KEY    STATE Region  YEAR  ENROLL  TOTAL_REVENUE  \\\n",
       "0  1993_ALABAMA  ALABAMA  South  1993  727716        2827391   \n",
       "1  1994_ALABAMA  ALABAMA  South  1994  730004        2970223   \n",
       "2  1995_ALABAMA  ALABAMA  South  1995  727480        3367437   \n",
       "3  1996_ALABAMA  ALABAMA  South  1996  735912        3365113   \n",
       "4  1997_ALABAMA  ALABAMA  South  1997  737386        3981788   \n",
       "\n",
       "   TOTAL_REVENUE_PS  FEDERAL_REVENUE  FEDERAL_REVENUE_PS  STATE_REVENUE  \\\n",
       "0          4.172101           331409            0.489027        1729295   \n",
       "1          4.375645           331823            0.488832        1850894   \n",
       "2          4.905868           328957            0.479243        2161366   \n",
       "3          4.898393           334858            0.487433        2138717   \n",
       "4          5.763349           376200            0.544522        2498847   \n",
       "\n",
       "          ...           GRADES_4_G  GRADES_8_G  GRADES_12_G  GRADES_1_8_G  \\\n",
       "0         ...                57497       60004        39900        470775   \n",
       "1         ...                56773       59165        41730        468472   \n",
       "2         ...                56486       59914        40981        470246   \n",
       "3         ...                57098       58305        42510        469370   \n",
       "4         ...                57431       58210        44272        472847   \n",
       "\n",
       "   GRADES_9_12_G  GRADES_ALL_G  AVG_MATH_4_SCORE  AVG_MATH_8_SCORE  \\\n",
       "0         198651        677690        208.327876        252.187522   \n",
       "1         201285        678808        208.327876        252.187522   \n",
       "2         206840        686410        208.327876        252.187522   \n",
       "3         207980        686983        211.646973        256.594863   \n",
       "4         208148        690881        211.646973        256.594863   \n",
       "\n",
       "   AVG_READING_4_SCORE  AVG_READING_8_SCORE  \n",
       "0           207.963517           260.276441  \n",
       "1           207.963517           260.276441  \n",
       "2           207.963517           260.276441  \n",
       "3           210.920767           260.276441  \n",
       "4           210.920767           260.276441  \n",
       "\n",
       "[5 rows x 35 columns]"
      ]
     },
     "execution_count": 2,
     "metadata": {},
     "output_type": "execute_result"
    }
   ],
   "source": [
    "#import csv\n",
    "df = pd.read_csv('Cleaned_Data.csv')\n",
    "df.head()"
   ]
  },
  {
   "cell_type": "code",
   "execution_count": 3,
   "metadata": {},
   "outputs": [
    {
     "name": "stdout",
     "output_type": "stream",
     "text": [
      "Shape:  (1143, 1) (1143, 1)\n"
     ]
    },
    {
     "data": {
      "text/plain": [
       "array([[207.9635172],\n",
       "       [207.9635172],\n",
       "       [207.9635172],\n",
       "       ...,\n",
       "       [225.848975 ],\n",
       "       [225.848975 ],\n",
       "       [228.1608028]])"
      ]
     },
     "execution_count": 3,
     "metadata": {},
     "output_type": "execute_result"
    }
   ],
   "source": [
    "X = df.AVG_READING_4_SCORE.values.reshape(-1, 1)\n",
    "y = df.TOTAL_REVENUE.values.reshape(-1, 1)\n",
    "\n",
    "print(\"Shape: \", X.shape, y.shape)\n",
    "X"
   ]
  },
  {
   "cell_type": "code",
   "execution_count": 4,
   "metadata": {},
   "outputs": [
    {
     "data": {
      "text/plain": [
       "<matplotlib.collections.PathCollection at 0x10da909b0>"
      ]
     },
     "execution_count": 4,
     "metadata": {},
     "output_type": "execute_result"
    },
    {
     "data": {
      "image/png": "[encoded data removed]",
      "text/plain": [
       "<Figure size 432x288 with 1 Axes>"
      ]
     },
     "metadata": {},
     "output_type": "display_data"
    }
   ],
   "source": [
    "plt.scatter(X, y)"
   ]
  },
  {
   "cell_type": "code",
   "execution_count": 5,
   "metadata": {},
   "outputs": [],
   "source": [
    "from sklearn.linear_model import LinearRegression\n",
    "\n",
    "model = LinearRegression()"
   ]
  },
  {
   "cell_type": "code",
   "execution_count": 6,
   "metadata": {},
   "outputs": [
    {
     "data": {
      "text/plain": [
       "LinearRegression(copy_X=True, fit_intercept=True, n_jobs=1, normalize=False)"
      ]
     },
     "execution_count": 6,
     "metadata": {},
     "output_type": "execute_result"
    }
   ],
   "source": [
    "model.fit(X, y)"
   ]
  },
  {
   "cell_type": "code",
   "execution_count": 7,
   "metadata": {},
   "outputs": [
    {
     "name": "stdout",
     "output_type": "stream",
     "text": [
      "Weight coefficients:  [[17694.89768053]]\n",
      "y-axis intercept:  [5411008.2135459]\n"
     ]
    }
   ],
   "source": [
    "print('Weight coefficients: ', model.coef_)\n",
    "print('y-axis intercept: ', model.intercept_)"
   ]
  },
  {
   "cell_type": "code",
   "execution_count": 8,
   "metadata": {},
   "outputs": [
    {
     "name": "stdout",
     "output_type": "stream",
     "text": [
      "Min X Value: [[196.7622678]]\n",
      "Max X Value: [[236.7738666]]\n"
     ]
    }
   ],
   "source": [
    "x_min = np.array([[X.min()]])\n",
    "x_max = np.array([[X.max()]])\n",
    "print(f\"Min X Value: {x_min}\")\n",
    "print(f\"Max X Value: {x_max}\")"
   ]
  },
  {
   "cell_type": "code",
   "execution_count": 9,
   "metadata": {},
   "outputs": [],
   "source": [
    "y_min = model.predict(x_min)\n",
    "y_max = model.predict(x_max)"
   ]
  },
  {
   "cell_type": "code",
   "execution_count": 10,
   "metadata": {},
   "outputs": [
    {
     "data": {
      "text/plain": [
       "[<matplotlib.lines.Line2D at 0x1a1b1a8da0>]"
      ]
     },
     "execution_count": 10,
     "metadata": {},
     "output_type": "execute_result"
    },
    {
     "data": {
      "image/png": "[encoded data removed]",
      "text/plain": [
       "<Figure size 432x288 with 1 Axes>"
      ]
     },
     "metadata": {},
     "output_type": "display_data"
    }
   ],
   "source": [
    "plt.scatter(X, y, c='blue')\n",
    "plt.plot([x_min[0], x_max[0]], [y_min[0], y_max[0]], c='red')"
   ]
  },
  {
   "cell_type": "code",
   "execution_count": null,
   "metadata": {},
   "outputs": [],
   "source": [
    "#Reading 4 Stats"
   ]
  },
  {
   "cell_type": "code",
   "execution_count": 11,
   "metadata": {},
   "outputs": [
    {
     "name": "stdout",
     "output_type": "stream",
     "text": [
      "Shape:  (1143, 1) (1143, 1)\n"
     ]
    }
   ],
   "source": [
    "X = df[\"AVG_READING_4_SCORE\"].values.reshape(-1, 1)\n",
    "y = df[\"TOTAL_REVENUE\"].values.reshape(-1, 1)\n",
    "\n",
    "print(\"Shape: \", X.shape, y.shape)"
   ]
  },
  {
   "cell_type": "code",
   "execution_count": 12,
   "metadata": {},
   "outputs": [
    {
     "data": {
      "text/plain": [
       "Text(0,0.5,'Total Revenue')"
      ]
     },
     "execution_count": 12,
     "metadata": {},
     "output_type": "execute_result"
    },
    {
     "data": {
      "image/png": "[encoded data removed]",
      "text/plain": [
       "<Figure size 432x288 with 1 Axes>"
      ]
     },
     "metadata": {},
     "output_type": "display_data"
    }
   ],
   "source": [
    "plt.scatter(X, y)\n",
    "plt.xlabel(\"Grade 8 Average Math Scores\")\n",
    "plt.ylabel(\"Total Revenue\")"
   ]
  },
  {
   "cell_type": "code",
   "execution_count": 13,
   "metadata": {},
   "outputs": [],
   "source": [
    "from sklearn.model_selection import train_test_split\n",
    "\n",
    "X_train, X_test, y_train, y_test = train_test_split(X, y, random_state=42)"
   ]
  },
  {
   "cell_type": "code",
   "execution_count": 14,
   "metadata": {},
   "outputs": [],
   "source": [
    "from sklearn.linear_model import LinearRegression\n",
    "\n",
    "model = LinearRegression()"
   ]
  },
  {
   "cell_type": "code",
   "execution_count": 15,
   "metadata": {},
   "outputs": [
    {
     "data": {
      "text/plain": [
       "LinearRegression(copy_X=True, fit_intercept=True, n_jobs=1, normalize=False)"
      ]
     },
     "execution_count": 15,
     "metadata": {},
     "output_type": "execute_result"
    }
   ],
   "source": [
    "model.fit(X_train, y_train)"
   ]
  },
  {
   "cell_type": "code",
   "execution_count": 16,
   "metadata": {},
   "outputs": [
    {
     "name": "stdout",
     "output_type": "stream",
     "text": [
      "Mean Squared Error (MSE): 160650582558787.06\n",
      "R-squared (R2 ): -0.0021064875953655804\n"
     ]
    }
   ],
   "source": [
    "#Reading Grade 4 average scores vs Total Revenue\n",
    "\n",
    "from sklearn.metrics import mean_squared_error, r2_score\n",
    "\n",
    "# Use our model to make predictions\n",
    "predicted = model.predict(X_test)\n",
    "\n",
    "# Score the predictions with mse and r2\n",
    "mse = mean_squared_error(y_test, predicted)\n",
    "r2 = r2_score(y_test, predicted)\n",
    "\n",
    "print(f\"Mean Squared Error (MSE): {mse}\")\n",
    "print(f\"R-squared (R2 ): {r2}\")"
   ]
  },
  {
   "cell_type": "code",
   "execution_count": null,
   "metadata": {},
   "outputs": [],
   "source": [
    "#Reading 8 Stats"
   ]
  },
  {
   "cell_type": "code",
   "execution_count": 26,
   "metadata": {},
   "outputs": [
    {
     "name": "stdout",
     "output_type": "stream",
     "text": [
      "Shape:  (1143, 1) (1143, 1)\n"
     ]
    }
   ],
   "source": [
    "X = df[\"AVG_READING_4_SCORE\"].values.reshape(-1, 1)\n",
    "y = df[\"TOTAL_REVENUE\"].values.reshape(-1, 1)\n",
    "\n",
    "print(\"Shape: \", X.shape, y.shape)"
   ]
  },
  {
   "cell_type": "code",
   "execution_count": 27,
   "metadata": {},
   "outputs": [
    {
     "data": {
      "text/plain": [
       "Text(0,0.5,'Total Revenue')"
      ]
     },
     "execution_count": 27,
     "metadata": {},
     "output_type": "execute_result"
    },
    {
     "data": {
      "image/png": "[encoded data removed]",
      "text/plain": [
       "<Figure size 432x288 with 1 Axes>"
      ]
     },
     "metadata": {},
     "output_type": "display_data"
    }
   ],
   "source": [
    "plt.scatter(X, y)\n",
    "plt.xlabel(\"Grade 8 Average Math Scores\")\n",
    "plt.ylabel(\"Total Revenue\")"
   ]
  },
  {
   "cell_type": "code",
   "execution_count": 28,
   "metadata": {},
   "outputs": [],
   "source": [
    "from sklearn.model_selection import train_test_split\n",
    "\n",
    "X_train, X_test, y_train, y_test = train_test_split(X, y, random_state=42)"
   ]
  },
  {
   "cell_type": "code",
   "execution_count": 29,
   "metadata": {},
   "outputs": [],
   "source": [
    "from sklearn.linear_model import LinearRegression\n",
    "\n",
    "model = LinearRegression()"
   ]
  },
  {
   "cell_type": "code",
   "execution_count": 30,
   "metadata": {},
   "outputs": [
    {
     "data": {
      "text/plain": [
       "LinearRegression(copy_X=True, fit_intercept=True, n_jobs=1, normalize=False)"
      ]
     },
     "execution_count": 30,
     "metadata": {},
     "output_type": "execute_result"
    }
   ],
   "source": [
    "model.fit(X_train, y_train)"
   ]
  },
  {
   "cell_type": "code",
   "execution_count": 31,
   "metadata": {},
   "outputs": [
    {
     "name": "stdout",
     "output_type": "stream",
     "text": [
      "Mean Squared Error (MSE): 160650582558787.06\n",
      "R-squared (R2 ): -0.0021064875953655804\n"
     ]
    }
   ],
   "source": [
    "#Reading Grade 8 average scores vs Total Revenue\n",
    "\n",
    "from sklearn.metrics import mean_squared_error, r2_score\n",
    "\n",
    "# Use our model to make predictions\n",
    "predicted = model.predict(X_test)\n",
    "\n",
    "# Score the predictions with mse and r2\n",
    "mse = mean_squared_error(y_test, predicted)\n",
    "r2 = r2_score(y_test, predicted)\n",
    "\n",
    "print(f\"Mean Squared Error (MSE): {mse}\")\n",
    "print(f\"R-squared (R2 ): {r2}\")"
   ]
  }
 ],
 "metadata": {
  "kernelspec": {
   "display_name": "Python 3",
   "language": "python",
   "name": "python3"
  },
  "language_info": {
   "codemirror_mode": {
    "name": "ipython",
    "version": 3
   },
   "file_extension": ".py",
   "mimetype": "text/x-python",
   "name": "python",
   "nbconvert_exporter": "python",
   "pygments_lexer": "ipython3",
   "version": "3.6.5"
  }
 },
 "nbformat": 4,
 "nbformat_minor": 2
}
